{
 "cells": [
  {
   "cell_type": "code",
   "execution_count": null,
   "id": "395018c5-3f76-4957-946a-c213304719f6",
   "metadata": {
    "collapsed": false,
    "jupyter": {
     "outputs_hidden": false,
     "source_hidden": false
    },
    "microsoft": {
     "language": "python",
     "language_group": "synapse_pyspark"
    },
    "nteract": {
     "transient": {
      "deleting": false
     }
    },
    "tags": []
   },
   "outputs": [
    {
     "data": {
      "application/vnd.livy.statement-meta+json": {
       "execution_finish_time": "2024-11-07T21:13:49.4681253Z",
       "execution_start_time": "2024-11-07T21:13:33.0255493Z",
       "livy_statement_state": "available",
       "normalized_state": "finished",
       "parent_msg_id": "be7e8f70-6b7b-4824-8273-c85980c1c8e3",
       "queued_time": "2024-11-07T21:13:32.6356762Z",
       "session_id": "a515a0e5-2a7e-4ae7-9240-d63c668f4a8c",
       "session_start_time": null,
       "spark_pool": null,
       "state": "finished",
       "statement_id": 24,
       "statement_ids": [
        24
       ]
      },
      "text/plain": [
       "StatementMeta(, a515a0e5-2a7e-4ae7-9240-d63c668f4a8c, 24, Finished, Available, Finished)"
      ]
     },
     "metadata": {},
     "output_type": "display_data"
    }
   ],
   "source": [
    "import pandas as pd"
   ]
  },
  {
   "cell_type": "code",
   "execution_count": 1,
   "id": "c9d1bf34-3249-4cc4-ab5e-c157862d17c8",
   "metadata": {
    "collapsed": false,
    "jupyter": {
     "outputs_hidden": false,
     "source_hidden": false
    },
    "microsoft": {
     "language": "python",
     "language_group": "synapse_pyspark"
    },
    "nteract": {
     "transient": {
      "deleting": false
     }
    },
    "tags": [
     "parameters"
    ]
   },
   "outputs": [
    {
     "data": {
      "application/vnd.livy.statement-meta+json": {
       "execution_finish_time": "2024-11-09T19:06:48.3609747Z",
       "execution_start_time": "2024-11-09T19:06:46.0251922Z",
       "livy_statement_state": "available",
       "normalized_state": "finished",
       "parent_msg_id": "0d23b2f8-1d8d-4de3-b8cb-1be74d783511",
       "queued_time": "2024-11-09T19:05:35.1746948Z",
       "session_id": "380feefe-ffd5-4ad6-bc92-a66a0e369fc4",
       "session_start_time": "2024-11-09T19:05:35.4275191Z",
       "spark_pool": null,
       "state": "finished",
       "statement_id": 5,
       "statement_ids": [
        5
       ]
      },
      "text/plain": [
       "StatementMeta(, 380feefe-ffd5-4ad6-bc92-a66a0e369fc4, 5, Finished, Available, Finished)"
      ]
     },
     "metadata": {},
     "output_type": "display_data"
    }
   ],
   "source": [
    "#pipeline parameter\n",
    "query_type = \"\""
   ]
  },
  {
   "cell_type": "code",
   "execution_count": 2,
   "id": "9b44810f-9093-4802-a277-f273b65bbac2",
   "metadata": {
    "collapsed": false,
    "jupyter": {
     "outputs_hidden": false,
     "source_hidden": false
    },
    "microsoft": {
     "language": "python",
     "language_group": "synapse_pyspark"
    },
    "nteract": {
     "transient": {
      "deleting": false
     }
    }
   },
   "outputs": [
    {
     "data": {
      "application/vnd.livy.statement-meta+json": {
       "execution_finish_time": "2024-11-09T19:07:07.7271649Z",
       "execution_start_time": "2024-11-09T19:06:48.8899709Z",
       "livy_statement_state": "available",
       "normalized_state": "finished",
       "parent_msg_id": "d579f4ee-cf0d-4491-acdb-08464d31aff1",
       "queued_time": "2024-11-09T19:05:35.1845019Z",
       "session_id": "380feefe-ffd5-4ad6-bc92-a66a0e369fc4",
       "session_start_time": null,
       "spark_pool": null,
       "state": "finished",
       "statement_id": 6,
       "statement_ids": [
        6
       ]
      },
      "text/plain": [
       "StatementMeta(, 380feefe-ffd5-4ad6-bc92-a66a0e369fc4, 6, Finished, Available, Finished)"
      ]
     },
     "metadata": {},
     "output_type": "display_data"
    }
   ],
   "source": [
    "df = spark.sql(f\"SELECT * FROM query.query_{query_type}  ORDER BY priority LIMIT 1000\")\n",
    "df_pd = df.toPandas()\n"
   ]
  },
  {
   "cell_type": "code",
   "execution_count": 18,
   "id": "cc82c537-5645-4deb-af5a-8fac9b0fabcb",
   "metadata": {
    "collapsed": false,
    "jupyter": {
     "outputs_hidden": false,
     "source_hidden": false
    },
    "microsoft": {
     "language": "python",
     "language_group": "synapse_pyspark"
    },
    "nteract": {
     "transient": {
      "deleting": false
     }
    }
   },
   "outputs": [
    {
     "data": {
      "application/vnd.livy.statement-meta+json": {
       "execution_finish_time": "2024-11-07T21:12:10.9212832Z",
       "execution_start_time": "2024-11-07T21:12:10.6818427Z",
       "livy_statement_state": "available",
       "normalized_state": "finished",
       "parent_msg_id": "3baa272b-cd10-4176-9db1-6dd047eb403a",
       "queued_time": "2024-11-07T21:12:10.2847862Z",
       "session_id": "a515a0e5-2a7e-4ae7-9240-d63c668f4a8c",
       "session_start_time": null,
       "spark_pool": null,
       "state": "finished",
       "statement_id": 22,
       "statement_ids": [
        22
       ]
      },
      "text/plain": [
       "StatementMeta(, a515a0e5-2a7e-4ae7-9240-d63c668f4a8c, 22, Finished, Available, Finished)"
      ]
     },
     "metadata": {},
     "output_type": "display_data"
    },
    {
     "name": "stdout",
     "output_type": "stream",
     "text": [
      "ExitValue: {'query_list': [{'email': '101540385@georgebrown.ca', 'id': '81b5cd4473c44b03abe3bfece9f65869', 'query_text': '[\"Topic 3\",\"Topic 5\",\" subtopic 4\",\" subtopic 5\"]', 'date_from': '', 'date_to': '', 'user_id': 'Alan Choi', 'priority': 'HIGH'}]}"
     ]
    }
   ],
   "source": [
    "# Assuming df_pd is the Pandas DataFrame with columns email, query_text, date_from, and date_to\n",
    "m = {0: \"LOW\" , 1:\"MEDIUM\" , 2:\"HIGH\"}\n",
    "lResult = {\n",
    "    \"query_list\": [\n",
    "        {\n",
    "            \"email\": email,\n",
    "            \"id\":_id,\n",
    "            \"query_text\": query_text,\n",
    "            \"date_from\": date_from,\n",
    "            \"date_to\": date_to,\n",
    "            \"user_id\": user_id,\n",
    "            \"priority\": m[priority]\n",
    "        }\n",
    "        for email, _id , query_text, date_from, date_to,user_id,priority in zip(\n",
    "            df_pd[\"email\"], df_pd[\"id\"] , df_pd[\"query_text\"], df_pd[\"date_from\"], df_pd[\"date_to\"] , df_pd[\"user_id\"]\n",
    "            ,df_pd[\"priority\"]\n",
    "        )\n",
    "    ]\n",
    "}\n",
    "mssparkutils.notebook.exit(str(lResult))"
   ]
  },
  {
   "cell_type": "code",
   "execution_count": 23,
   "id": "0f059089-e6b9-4046-b7f5-93555508e1b4",
   "metadata": {
    "collapsed": false,
    "jupyter": {
     "outputs_hidden": false,
     "source_hidden": false
    },
    "microsoft": {
     "language": "python",
     "language_group": "synapse_pyspark"
    },
    "nteract": {
     "transient": {
      "deleting": false
     }
    }
   },
   "outputs": [
    {
     "data": {
      "application/vnd.livy.statement-meta+json": {
       "execution_finish_time": "2024-11-07T21:33:53.5343854Z",
       "execution_start_time": "2024-11-07T21:33:53.2847232Z",
       "livy_statement_state": "available",
       "normalized_state": "finished",
       "parent_msg_id": "80c47af0-d4f0-4e6a-8e3a-b06e4de04039",
       "queued_time": "2024-11-07T21:33:52.9043348Z",
       "session_id": "a515a0e5-2a7e-4ae7-9240-d63c668f4a8c",
       "session_start_time": null,
       "spark_pool": null,
       "state": "finished",
       "statement_id": 27,
       "statement_ids": [
        27
       ]
      },
      "text/plain": [
       "StatementMeta(, a515a0e5-2a7e-4ae7-9240-d63c668f4a8c, 27, Finished, Available, Finished)"
      ]
     },
     "metadata": {},
     "output_type": "display_data"
    },
    {
     "data": {
      "text/plain": [
       "{'currentNotebookName': 'auto_email', 'currentWorkspaceName': 'fhgbc', 'defaultLakehouseName': 'query', 'defaultLakehouseId': '49f908d1-4437-4cc0-b70d-f2ee89449202', 'parentRunId': None, 'isReferenceRun': False, 'defaultLakehouseWorkspaceId': '2007662d-6654-4a40-be93-23217fe4b693', 'hcReplId': None, 'activityId': 'a515a0e5-2a7e-4ae7-9240-d63c668f4a8c', 'defaultLakehouseWorkspaceName': 'fhgbc', 'currentWorkspaceId': '2007662d-6654-4a40-be93-23217fe4b693', 'referenceTreePath': None, 'clusterId': '60e5f162-8016-41b8-8bac-033a07dc30d4', 'poolName': 'Starter Pool', 'environmentId': '', 'currentNotebookId': '95643fa1-1e72-42ab-9946-8ddcb407e7ed', 'userId': '6ada638f-0631-4b4b-9deb-8c624f72edd9', 'environmentWorkspaceId': '', 'userName': 'Siu Lun Alan Choi', 'currentRunId': None, 'isForPipeline': False, 'rootRunId': None}"
      ]
     },
     "execution_count": 73,
     "metadata": {},
     "output_type": "execute_result"
    }
   ],
   "source": []
  },
  {
   "cell_type": "code",
   "execution_count": null,
   "id": "61f7229d-1d96-4118-a32c-092c62c64fe0",
   "metadata": {
    "collapsed": false,
    "jupyter": {
     "outputs_hidden": false,
     "source_hidden": false
    },
    "microsoft": {
     "language": "python",
     "language_group": "synapse_pyspark"
    },
    "nteract": {
     "transient": {
      "deleting": false
     }
    }
   },
   "outputs": [],
   "source": []
  }
 ],
 "metadata": {
  "dependencies": {
   "lakehouse": {
    "default_lakehouse": "49f908d1-4437-4cc0-b70d-f2ee89449202",
    "default_lakehouse_name": "query",
    "default_lakehouse_workspace_id": "2007662d-6654-4a40-be93-23217fe4b693"
   }
  },
  "kernel_info": {
   "name": "synapse_pyspark"
  },
  "kernelspec": {
   "display_name": "Python 3 (ipykernel)",
   "language": "python",
   "name": "python3"
  },
  "language_info": {
   "codemirror_mode": {
    "name": "ipython",
    "version": 3
   },
   "file_extension": ".py",
   "mimetype": "text/x-python",
   "name": "python",
   "nbconvert_exporter": "python",
   "pygments_lexer": "ipython3",
   "version": "3.12.4"
  },
  "microsoft": {
   "language": "python",
   "language_group": "synapse_pyspark",
   "ms_spell_check": {
    "ms_spell_check_language": "en"
   }
  },
  "nteract": {
   "version": "nteract-front-end@1.0.0"
  },
  "spark_compute": {
   "compute_id": "/trident/default",
   "session_options": {
    "conf": {
     "spark.synapse.nbs.session.timeout": "1200000"
    }
   }
  },
  "synapse_widget": {
   "state": {},
   "version": "0.1"
  },
  "widgets": {}
 },
 "nbformat": 4,
 "nbformat_minor": 5
}
